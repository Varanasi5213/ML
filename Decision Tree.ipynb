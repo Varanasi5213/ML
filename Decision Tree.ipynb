{
 "cells": [
  {
   "cell_type": "code",
   "execution_count": 1,
   "metadata": {},
   "outputs": [
    {
     "ename": "SyntaxError",
     "evalue": "invalid syntax (<ipython-input-1-9c0172e68134>, line 3)",
     "output_type": "error",
     "traceback": [
      "\u001b[1;36m  File \u001b[1;32m\"<ipython-input-1-9c0172e68134>\"\u001b[1;36m, line \u001b[1;32m3\u001b[0m\n\u001b[1;33m    def load_csv('lense.csv'):\u001b[0m\n\u001b[1;37m                           ^\u001b[0m\n\u001b[1;31mSyntaxError\u001b[0m\u001b[1;31m:\u001b[0m invalid syntax\n"
     ]
    }
   ],
   "source": [
    "import math\n",
    "import csv\n",
    "def load_csv('lense.csv'):\n",
    "    lines = csv.reader(open(\"lense.csv\",\"r\")),dataset = list(lines)\n",
    "    headers = dataset.pop()\n",
    "    return dataset,headers\n",
    "class Node:\n",
    "    def init(self,attribute):\n",
    "        self.attribute = attribute \n",
    "        self.children = []\n",
    "        self.answer = \"\"\n",
    "#NULL indicatews children exists. #Not NULL indicates this is a leaf node\n",
    "    def subtables(data,col,delete): \n",
    "        dic = {}\n",
    "        coldata = [row[col] for row in data]\n",
    "        attr=list(set(coldata)) #All values of attributes retrieved\n",
    "        counts = [0]*len(attr)\n",
    "        r = len(data)\n",
    "        c = len(data[])\n",
    "        for x in range(len(attr)):\n",
    "            for y in range(r):\n",
    "                if data[y][col] = attr[x]:\n",
    "                    counts[x] += 1\n",
    "        for x in range(len(attr)):\n",
    "            dic[attr[x]] = [[0 for i in range(c)]for j in range(counts[x])]\n",
    "            pos = 0\n",
    "        for y in range(r):\n",
    "            if data[y][col] == attr[x]:\n",
    "                if delete:\n",
    "                    del data[y][col]\n",
    "                    dic[attr[x]][pos] = data[y]\n",
    "                    pos +=1\n",
    "        return attr,dic\n",
    "    def entropy(S):\n",
    "        attr = list(set(S))\n",
    "        if len(attr) == 1:#if all are +ve/-ve then entropy = 0 return 0\n",
    "            counts = [0,0] #Only two p[ossible values 'yes' or 'no'\n",
    "            for i in range(2):\n",
    "                counts[i] = sum([1 for x in S if attr[i] == x])/(len(S)*1.0)\n",
    "        sums = 0\n",
    "        for cnt in counts:\n",
    "            sums += -1*cnt*math.log(cnt,2)\n",
    "        return sums\n",
    "    def compute_gain(data,col):\n",
    "        attValues,dic = subtables(data,cool,delete=False)\n",
    "        total_entropy = entropy([row[-1] for row in data])\n",
    "        for x in range(len(attValues)):\n",
    "            ratio = len(dic[attValues[x])/(len(data)*1.0)\n",
    "            entro = entropy([row[-1] for row in dic[attValues[x]]])\n",
    "            total_entropy -=ratio*entro\n",
    "        return total_entropy\n",
    "    def build_tree(data,features):\n",
    "        lastcol = [row[-1] for row in data]\n",
    "                            "
   ]
  },
  {
   "cell_type": "code",
   "execution_count": 3,
   "metadata": {},
   "outputs": [],
   "source": []
  },
  {
   "cell_type": "code",
   "execution_count": 2,
   "metadata": {},
   "outputs": [
    {
     "ename": "ModuleNotFoundError",
     "evalue": "No module named 'anytree'",
     "output_type": "error",
     "traceback": [
      "\u001b[1;31m---------------------------------------------------------------------------\u001b[0m",
      "\u001b[1;31mModuleNotFoundError\u001b[0m                       Traceback (most recent call last)",
      "\u001b[1;32m<ipython-input-2-405372b26659>\u001b[0m in \u001b[0;36m<module>\u001b[1;34m()\u001b[0m\n\u001b[1;32m----> 1\u001b[1;33m \u001b[1;32mfrom\u001b[0m \u001b[0manytree\u001b[0m \u001b[1;32mimport\u001b[0m \u001b[0mNode\u001b[0m\u001b[1;33m\u001b[0m\u001b[0m\n\u001b[0m",
      "\u001b[1;31mModuleNotFoundError\u001b[0m: No module named 'anytree'"
     ]
    }
   ],
   "source": []
  }
 ],
 "metadata": {
  "kernelspec": {
   "display_name": "Python 3",
   "language": "python",
   "name": "python3"
  },
  "language_info": {
   "codemirror_mode": {
    "name": "ipython",
    "version": 3
   },
   "file_extension": ".py",
   "mimetype": "text/x-python",
   "name": "python",
   "nbconvert_exporter": "python",
   "pygments_lexer": "ipython3",
   "version": "3.6.5"
  }
 },
 "nbformat": 4,
 "nbformat_minor": 2
}
