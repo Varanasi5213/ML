{
 "cells": [
  {
   "cell_type": "code",
   "execution_count": 5,
   "metadata": {},
   "outputs": [],
   "source": [
    "import pandas as pd\n",
    "import numpy as np\n",
    "data=pd.read_csv(\"LoanStuff.csv\")\n",
    "x=[list(data['Age']),list(data['Loan']),list(data['Default'])]\n",
    "age=(33-min(x[0]))/(max(x[0])-min(x[0]))\n",
    "income=(150000-min(x[1]))/(max(x[1])-min(x[1]))\n",
    "k=0\n",
    "d=[]\n",
    "x1=x\n",
    "for i,j in zip(x[0],x[1]):\n",
    "    x1[0][k]=(i-min(x[0]))/(max(x[0])-min(x[0]))\n",
    "    x1[1][k]=(j-min(x[1]))/(max(x[1])-min(x[1]))\n",
    "    x1[2][k]=x[2][k]\n",
    "    k=k+1\n",
    "l=list(data['Default'])\n",
    "di=[]\n",
    "for k in  range(len(x1[0])):\n",
    "    d.append(abs(x1[0][k]-age)+abs(x1[1][k]-income))\n",
    "for k in  range(len(x1[0])):\n",
    "    di.append([d[k],l[k]])"
   ]
  },
  {
   "cell_type": "code",
   "execution_count": 6,
   "metadata": {},
   "outputs": [
    {
     "name": "stdout",
     "output_type": "stream",
     "text": [
      "['Y', 'N', 'N', 'N', 'Y']\n",
      "Class = N \n"
     ]
    }
   ],
   "source": [
    "di.sort(key=lambda x:x[0])\n",
    "#di=di[::-1]\n",
    "q=[]\n",
    "for k in di[:5]: \n",
    "    q.append(k[1])\n",
    "print(q)\n",
    "if q.count('N')>q.count('Y'):\n",
    "    print(\"Class = N \")\n",
    "else:\n",
    "    print(\"Class = Y\")"
   ]
  }
 ],
 "metadata": {
  "kernelspec": {
   "display_name": "Python 3",
   "language": "python",
   "name": "python3"
  },
  "language_info": {
   "codemirror_mode": {
    "name": "ipython",
    "version": 3
   },
   "file_extension": ".py",
   "mimetype": "text/x-python",
   "name": "python",
   "nbconvert_exporter": "python",
   "pygments_lexer": "ipython3",
   "version": "3.6.5"
  }
 },
 "nbformat": 4,
 "nbformat_minor": 2
}
