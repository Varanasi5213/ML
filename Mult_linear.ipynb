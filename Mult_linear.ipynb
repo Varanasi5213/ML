{
 "cells": [
  {
   "cell_type": "code",
   "execution_count": 9,
   "metadata": {},
   "outputs": [
    {
     "data": {
      "text/plain": [
       "7.012391671356374"
      ]
     },
     "execution_count": 9,
     "metadata": {},
     "output_type": "execute_result"
    }
   ],
   "source": [
    "import pandas as pd\n",
    "import numpy as np\n",
    "data=pd.read_excel(\"gas_data.xlsx\")\n",
    "i=data.columns\n",
    "l=[]\n",
    "for j in range(0,len(data)):\n",
    "    l.append(1)\n",
    "x=np.array([l,data[i[0]],data[i[1]]])\n",
    "y=np.array(data[i[3]])\n",
    "xt=x\n",
    "x=np.transpose(x)\n",
    "xi=xt.dot(x)\n",
    "xi=np.linalg.inv(xi)\n",
    "b=(xt.dot(y)).dot(xi)\n",
    "x_t=np.array([1,90,5])\n",
    "yp=x_t.dot(b)\n",
    "yp"
   ]
  }
 ],
 "metadata": {
  "kernelspec": {
   "display_name": "Python 3",
   "language": "python",
   "name": "python3"
  },
  "language_info": {
   "codemirror_mode": {
    "name": "ipython",
    "version": 3
   },
   "file_extension": ".py",
   "mimetype": "text/x-python",
   "name": "python",
   "nbconvert_exporter": "python",
   "pygments_lexer": "ipython3",
   "version": "3.6.5"
  }
 },
 "nbformat": 4,
 "nbformat_minor": 2
}
